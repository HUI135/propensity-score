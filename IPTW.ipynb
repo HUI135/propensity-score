{
 "cells": [
  {
   "cell_type": "markdown",
   "id": "1f8b93d5",
   "metadata": {},
   "source": [
    "#### IPTW Modeling"
   ]
  },
  {
   "cell_type": "code",
   "execution_count": null,
   "id": "d55d53f5",
   "metadata": {
    "vscode": {
     "languageId": "plaintext"
    }
   },
   "outputs": [],
   "source": [
    "import numpy as np\n",
    "import pandas as pd\n",
    "import statsmodels.api as sm\n",
    "\n",
    "# 구성요소 리스트 -- 정의 필요\n",
    "treatment = 'treatment'\n",
    "target = 'target'\n",
    "covs = ['age', 'sex', 'smoke', 'drink', 'exercise']\n",
    "continuous_covs = ['age']\n",
    "categorical_covs = ['sex', 'smoke', 'drink', 'exercise']\n",
    "\n",
    "results = []\n",
    "\n",
    "df_iptw = data[['age', 'sex', 'smoke', 'drink', 'exercise', treatment, target]].copy()\n",
    "df_iptw = df_iptw.dropna(subset=[treatment, target] + covs)\n",
    "df_iptw['treatment_group'] = df_iptw[treatment].astype(float)\n",
    "\n",
    "# Propensity Score Model\n",
    "X_cat = pd.get_dummies(df_iptw[categorical_covs], drop_first=True).astype(float)\n",
    "X = pd.concat([df_iptw[continuous_covs], X_cat], axis=1)\n",
    "X_const = sm.add_constant(X)\n",
    "\n",
    "ps_model = sm.Logit(df_iptw['treatment_group'], X_const).fit(disp=0)\n",
    "df_iptw['pscore'] = ps_model.predict(X_const)\n",
    "\n",
    "# IPTW 계산\n",
    "df_iptw['weight'] = df_iptw.apply(\n",
    "    lambda row: 1 / row['pscore'] if row['treatment_group'] == 1 else 1 / (1 - row['pscore']),\n",
    "    axis=1\n",
    ")\n",
    "\n",
    "# ▶ Trimming (0.01–0.99 범위 유지)\n",
    "df_iptw_trim = df_iptw[(df_iptw['pscore'] >= 0.01) & (df_iptw['pscore'] <= 0.99)]\n",
    "\n",
    "treated = df_iptw_trim[df_iptw_trim['treatment_group'] == 1]\n",
    "control = df_iptw_trim[df_iptw_trim['treatment_group'] == 0]\n",
    "\n",
    "rate1 = np.average(treated[target], weights=treated['weight'])\n",
    "rate0 = np.average(control[target], weights=control['weight'])\n",
    "diff = rate1 - rate0\n",
    "\n",
    "# Table 요소\n",
    "n1 = f\"{int(np.sum(treated[target])):,} / {len(treated):,} ({rate1*100:.1f}%)\"\n",
    "n0 = f\"{int(np.sum(control[target])):,} / {len(control):,} ({rate0*100:.1f}%)\"\n",
    "\n",
    "X_logit = sm.add_constant(df_iptw_trim['treatment_group'])\n",
    "logit_model = sm.Logit(df_iptw_trim[target], X_logit)\n",
    "result = logit_model.fit(weights=df_iptw_trim['weight'], disp=0)\n",
    "\n",
    "coef = result.params['treatment_group']\n",
    "se = result.bse['treatment_group']\n",
    "or_val = np.exp(coef)\n",
    "ci_low = np.exp(coef - 1.96 * se)\n",
    "ci_high = np.exp(coef + 1.96 * se)\n",
    "pval = result.pvalues['treatment_group']\n",
    "\n",
    "results.append({\n",
    "    'Exposure=0 Cases': n0,\n",
    "    'Exposure=1 Cases': n1,\n",
    "    'OR (95% CI)': f'{or_val:.3f} ({ci_low:.3f}–{ci_high:.3f})',\n",
    "    'p-value': f'{pval:.3f}' if pval >= 0.001 else '<0.001'\n",
    "})\n",
    "\n",
    "df_iptw_trimmed_results = pd.DataFrame(results)\n",
    "df_iptw_trimmed_results"
   ]
  },
  {
   "cell_type": "markdown",
   "id": "3ffff140",
   "metadata": {},
   "source": [
    "#### KDE plot"
   ]
  },
  {
   "cell_type": "code",
   "execution_count": null,
   "id": "ccff39b3",
   "metadata": {
    "vscode": {
     "languageId": "plaintext"
    }
   },
   "outputs": [],
   "source": [
    "import matplotlib.pyplot as plt\n",
    "import seaborn as sns\n",
    "\n",
    "plt.figure(figsize=(6, 4))\n",
    "\n",
    "sns.kdeplot(df_iptw[df_iptw['treatment_group'] == 1]['pscore'], label=f'{treatment.upper()} = 1', fill=True, color='red')\n",
    "sns.kdeplot(df_iptw[df_iptw['treatment_group'] == 0]['pscore'], label=f'{treatment.upper()} = 0', fill=True, color='blue')\n",
    "\n",
    "# trimming line 표시\n",
    "plt.axvline(0.01, color='gray', linestyle='--')\n",
    "plt.axvline(0.99, color='gray', linestyle='--')\n",
    "plt.title('Treatment PS Overlap', fontsize=11)\n",
    "plt.xlabel('Propensity Score', fontsize=10)\n",
    "plt.ylabel('Density', fontsize=10)\n",
    "plt.legend(loc='upper right', fontsize=9)\n",
    "\n",
    "plt.tight_layout()\n",
    "plt.show()"
   ]
  },
  {
   "cell_type": "markdown",
   "id": "0b2929d6",
   "metadata": {},
   "source": [
    "#### E-value calculate"
   ]
  },
  {
   "cell_type": "code",
   "execution_count": null,
   "id": "c9a7f312",
   "metadata": {
    "vscode": {
     "languageId": "plaintext"
    }
   },
   "outputs": [],
   "source": [
    "def e_value(or_estimate):\n",
    "    if or_estimate < 1:\n",
    "        or_estimate = 1 / or_estimate\n",
    "    return or_estimate + np.sqrt(or_estimate * (or_estimate - 1))\n",
    "\n",
    "df_iptw_trimmed_results['E-value'] = df_iptw_trimmed_results['OR (95% CI)'].str.extract(r'([\\d\\.]+)').astype(float).apply(lambda x: round(e_value(x[0]), 3), axis=1)\n",
    "df_iptw_trimmed_results"
   ]
  },
  {
   "cell_type": "markdown",
   "id": "e2baf1bd",
   "metadata": {},
   "source": [
    "#### Forestplot"
   ]
  },
  {
   "cell_type": "code",
   "execution_count": null,
   "id": "0e7f9ec7",
   "metadata": {
    "vscode": {
     "languageId": "plaintext"
    }
   },
   "outputs": [],
   "source": [
    "import seaborn as sns\n",
    "\n",
    "plt.figure(figsize=(6, 4))\n",
    "sns.histplot(df_iptw['weight'], bins=30, kde=True)\n",
    "plt.title('Distribution of IPTW Weights')\n",
    "plt.xlabel('Weight')\n",
    "plt.ylabel('Frequency')\n",
    "plt.tight_layout()\n",
    "plt.show()"
   ]
  },
  {
   "cell_type": "markdown",
   "id": "d4044b54",
   "metadata": {},
   "source": [
    "#### SMD comparison"
   ]
  },
  {
   "cell_type": "code",
   "execution_count": null,
   "id": "febb1b0f",
   "metadata": {
    "vscode": {
     "languageId": "plaintext"
    }
   },
   "outputs": [],
   "source": [
    "# 더미화\n",
    "df_smd = pd.get_dummies(df_iptw, columns=['sex', 'smoke', 'drink', 'exercise'], drop_first=True)\n",
    "\n",
    "# 더미화된 컬럼만 필터링\n",
    "smd_cols = [col for col in df_smd.columns if col.startswith(('age', 'sex_', 'smoke_', 'drink_', 'exercise_'))]\n",
    "\n",
    "# SMD 계산\n",
    "before_smd = compute_smd(df_smd, 'treatment_group', smd_cols)\n",
    "\n",
    "# Trimming 이후도 동일하게 처리\n",
    "df_smd_trim = pd.get_dummies(df_iptw_trim, columns=['sex', 'smoke', 'drink', 'exercise'], drop_first=True)\n",
    "smd_cols_trim = [col for col in df_smd_trim.columns if col in smd_cols]  # 동일 컬럼만 유지\n",
    "after_smd = compute_smd(df_smd_trim, 'treatment_group', smd_cols_trim, weight='weight')\n",
    "\n",
    "# 시각화\n",
    "smd_df = pd.DataFrame({'Before IPTW': before_smd, 'After IPTW': after_smd})\n",
    "smd_df.plot(kind='barh', figsize=(8, 5))\n",
    "plt.axvline(0.1, color='red', linestyle='--', label='SMD=0.1 threshold')\n",
    "plt.legend()\n",
    "plt.title('Covariate Balance: Before vs After IPTW')\n",
    "plt.xlabel('Standardized Mean Difference (SMD)')\n",
    "plt.tight_layout()\n",
    "plt.show()"
   ]
  }
 ],
 "metadata": {
  "language_info": {
   "name": "python"
  }
 },
 "nbformat": 4,
 "nbformat_minor": 5
}
